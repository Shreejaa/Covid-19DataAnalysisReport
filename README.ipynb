{
 "cells": [
  {
   "cell_type": "markdown",
   "metadata": {},
   "source": [
    "# COVID-19 STATISTICAL VISUALIZATION\n",
    "#### COVID-19 Data report on vaccinations and cases through the world, deaths and cases in different states of USA. \n",
    "---\n",
    "### INTRODUCTION\n",
    "The covid-19 outbreak has put the entire world to a stop. It is a newly emerging issue, and hence \n",
    "to get updates, we need to visit different websites and analyze. Our project has proposed a solution by \n",
    "gathering all the required information about covid from cases to death, recoveries, and vaccinations. \n",
    "Moreover, this collected data is analyzed based on the crucial points to know and displays different \n",
    "visualization types. The graph's interactivity introduces access to massive data, manages it, and enables an \n",
    "ordinary person to interpret that data in less than a min. Humans analyze images in a much faster way than \n",
    "text.\n",
    "Get the updates that keep changing accordingly and give us live updates from different data sources. \n",
    "To have a clear and quick understanding of information accurately, visualizing the data can explain these \n",
    "events clearly and concisely for people to interpret data well. Various data visualization tools and \n",
    "techniques could achieve this. In this project, we identified why data visualization is necessary and its \n",
    "challenges and issues. We also noted that the interactivity of visualization is of utmost importance, and \n",
    "designing the plots applying different techniques and displaying data in various formats so that everyone \n",
    "can interpret it with ease.\n"
   ]
  },
  {
   "cell_type": "markdown",
   "metadata": {},
   "source": [
    "### Project Structure\n",
    "```\n",
    "|------- Covid-19Analysis\n",
    "    |------- apps\n",
    "        |------ __init__.py\n",
    "        |------ navigation.py\n",
    "        |------ spread.py\n",
    "        |------ vaccination.py\n",
    "        |------ wcases.py\n",
    "    |------- Data\n",
    "        |------ Country-Vaccination.csv\n",
    "        |------ US-codes.csv\n",
    "        |------ US-counties.csv\n",
    "        |------ Worldometer-data.csv\n",
    "    |------- Docs\n",
    "        |------ Report\n",
    "        |------ PPT\n",
    "    |------- app.py\n",
    "    |------- Index.py\n",
    "```\n",
    "[Refer Document for more details](Docs/Report.pdf)\n",
    "### Project Setup\n",
    "```\n",
    "Covid-19Analysis> python Index.py\n",
    "```\n",
    "Go to browser and enter 'localhost:8050' to see the analysis web page."
   ]
  },
  {
   "cell_type": "markdown",
   "metadata": {},
   "source": [
    "# WebApp\n",
    "\n",
    "![image](doc_images/Covid-part1-1.JPG)\n",
    "![image](doc_images/covid-part2-1.JPG)\n",
    "![image](doc_images/Covid-19p4-1.JPG)"
   ]
  }
 ],
 "metadata": {
  "kernelspec": {
   "display_name": "Python 3",
   "language": "python",
   "name": "python3"
  },
  "language_info": {
   "codemirror_mode": {
    "name": "ipython",
    "version": 3
   },
   "file_extension": ".py",
   "mimetype": "text/x-python",
   "name": "python",
   "nbconvert_exporter": "python",
   "pygments_lexer": "ipython3",
   "version": "3.8.5"
  }
 },
 "nbformat": 4,
 "nbformat_minor": 4
}
